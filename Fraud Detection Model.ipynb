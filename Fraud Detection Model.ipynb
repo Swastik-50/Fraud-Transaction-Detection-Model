{
 "cells": [
  {
   "cell_type": "code",
   "execution_count": 1,
   "id": "6c0285e5",
   "metadata": {},
   "outputs": [],
   "source": [
    "import os\n",
    "import pandas as pd\n",
    "import seaborn as sns\n",
    "import matplotlib.pyplot as plt\n",
    "import numpy as np"
   ]
  },
  {
   "cell_type": "code",
   "execution_count": 2,
   "id": "00fdd7a0",
   "metadata": {},
   "outputs": [],
   "source": [
    "data = \"C:\\\\Users\\\\KIIT\\\\Dropbox\\\\My PC (BT1928205)\\\\Downloads\\\\Fraud.csv\""
   ]
  },
  {
   "cell_type": "code",
   "execution_count": 3,
   "id": "291e9461",
   "metadata": {},
   "outputs": [],
   "source": [
    "df = pd.read_csv(data)"
   ]
  },
  {
   "cell_type": "raw",
   "id": "267a1ab7",
   "metadata": {},
   "source": [
    "#Reading the csv file"
   ]
  },
  {
   "cell_type": "code",
   "execution_count": 4,
   "id": "0389ca27",
   "metadata": {},
   "outputs": [
    {
     "data": {
      "text/html": [
       "<div>\n",
       "<style scoped>\n",
       "    .dataframe tbody tr th:only-of-type {\n",
       "        vertical-align: middle;\n",
       "    }\n",
       "\n",
       "    .dataframe tbody tr th {\n",
       "        vertical-align: top;\n",
       "    }\n",
       "\n",
       "    .dataframe thead th {\n",
       "        text-align: right;\n",
       "    }\n",
       "</style>\n",
       "<table border=\"1\" class=\"dataframe\">\n",
       "  <thead>\n",
       "    <tr style=\"text-align: right;\">\n",
       "      <th></th>\n",
       "      <th>step</th>\n",
       "      <th>type</th>\n",
       "      <th>amount</th>\n",
       "      <th>nameOrig</th>\n",
       "      <th>oldbalanceOrg</th>\n",
       "      <th>newbalanceOrig</th>\n",
       "      <th>nameDest</th>\n",
       "      <th>oldbalanceDest</th>\n",
       "      <th>newbalanceDest</th>\n",
       "      <th>isFraud</th>\n",
       "      <th>isFlaggedFraud</th>\n",
       "    </tr>\n",
       "  </thead>\n",
       "  <tbody>\n",
       "    <tr>\n",
       "      <th>0</th>\n",
       "      <td>1</td>\n",
       "      <td>PAYMENT</td>\n",
       "      <td>9839.64</td>\n",
       "      <td>C1231006815</td>\n",
       "      <td>170136.00</td>\n",
       "      <td>160296.36</td>\n",
       "      <td>M1979787155</td>\n",
       "      <td>0.00</td>\n",
       "      <td>0.00</td>\n",
       "      <td>0</td>\n",
       "      <td>0</td>\n",
       "    </tr>\n",
       "    <tr>\n",
       "      <th>1</th>\n",
       "      <td>1</td>\n",
       "      <td>PAYMENT</td>\n",
       "      <td>1864.28</td>\n",
       "      <td>C1666544295</td>\n",
       "      <td>21249.00</td>\n",
       "      <td>19384.72</td>\n",
       "      <td>M2044282225</td>\n",
       "      <td>0.00</td>\n",
       "      <td>0.00</td>\n",
       "      <td>0</td>\n",
       "      <td>0</td>\n",
       "    </tr>\n",
       "    <tr>\n",
       "      <th>2</th>\n",
       "      <td>1</td>\n",
       "      <td>TRANSFER</td>\n",
       "      <td>181.00</td>\n",
       "      <td>C1305486145</td>\n",
       "      <td>181.00</td>\n",
       "      <td>0.00</td>\n",
       "      <td>C553264065</td>\n",
       "      <td>0.00</td>\n",
       "      <td>0.00</td>\n",
       "      <td>1</td>\n",
       "      <td>0</td>\n",
       "    </tr>\n",
       "    <tr>\n",
       "      <th>3</th>\n",
       "      <td>1</td>\n",
       "      <td>CASH_OUT</td>\n",
       "      <td>181.00</td>\n",
       "      <td>C840083671</td>\n",
       "      <td>181.00</td>\n",
       "      <td>0.00</td>\n",
       "      <td>C38997010</td>\n",
       "      <td>21182.00</td>\n",
       "      <td>0.00</td>\n",
       "      <td>1</td>\n",
       "      <td>0</td>\n",
       "    </tr>\n",
       "    <tr>\n",
       "      <th>4</th>\n",
       "      <td>1</td>\n",
       "      <td>PAYMENT</td>\n",
       "      <td>11668.14</td>\n",
       "      <td>C2048537720</td>\n",
       "      <td>41554.00</td>\n",
       "      <td>29885.86</td>\n",
       "      <td>M1230701703</td>\n",
       "      <td>0.00</td>\n",
       "      <td>0.00</td>\n",
       "      <td>0</td>\n",
       "      <td>0</td>\n",
       "    </tr>\n",
       "    <tr>\n",
       "      <th>...</th>\n",
       "      <td>...</td>\n",
       "      <td>...</td>\n",
       "      <td>...</td>\n",
       "      <td>...</td>\n",
       "      <td>...</td>\n",
       "      <td>...</td>\n",
       "      <td>...</td>\n",
       "      <td>...</td>\n",
       "      <td>...</td>\n",
       "      <td>...</td>\n",
       "      <td>...</td>\n",
       "    </tr>\n",
       "    <tr>\n",
       "      <th>65530</th>\n",
       "      <td>9</td>\n",
       "      <td>CASH_IN</td>\n",
       "      <td>50529.41</td>\n",
       "      <td>C1132444754</td>\n",
       "      <td>6493984.64</td>\n",
       "      <td>6544514.05</td>\n",
       "      <td>C1956477953</td>\n",
       "      <td>308079.99</td>\n",
       "      <td>0.00</td>\n",
       "      <td>0</td>\n",
       "      <td>0</td>\n",
       "    </tr>\n",
       "    <tr>\n",
       "      <th>65531</th>\n",
       "      <td>9</td>\n",
       "      <td>CASH_IN</td>\n",
       "      <td>58429.17</td>\n",
       "      <td>C2059144571</td>\n",
       "      <td>6544514.05</td>\n",
       "      <td>6602943.22</td>\n",
       "      <td>C1137371968</td>\n",
       "      <td>4724976.11</td>\n",
       "      <td>6392871.31</td>\n",
       "      <td>0</td>\n",
       "      <td>0</td>\n",
       "    </tr>\n",
       "    <tr>\n",
       "      <th>65532</th>\n",
       "      <td>9</td>\n",
       "      <td>CASH_IN</td>\n",
       "      <td>114387.37</td>\n",
       "      <td>C687420794</td>\n",
       "      <td>6602943.22</td>\n",
       "      <td>6717330.59</td>\n",
       "      <td>C135254299</td>\n",
       "      <td>122030.09</td>\n",
       "      <td>7642.72</td>\n",
       "      <td>0</td>\n",
       "      <td>0</td>\n",
       "    </tr>\n",
       "    <tr>\n",
       "      <th>65533</th>\n",
       "      <td>9</td>\n",
       "      <td>CASH_IN</td>\n",
       "      <td>149249.38</td>\n",
       "      <td>C279481988</td>\n",
       "      <td>6717330.59</td>\n",
       "      <td>6866579.97</td>\n",
       "      <td>C527482085</td>\n",
       "      <td>322658.03</td>\n",
       "      <td>198216.73</td>\n",
       "      <td>0</td>\n",
       "      <td>0</td>\n",
       "    </tr>\n",
       "    <tr>\n",
       "      <th>65534</th>\n",
       "      <td>9</td>\n",
       "      <td>CASH_IN</td>\n",
       "      <td>4539.70</td>\n",
       "      <td>C780877295</td>\n",
       "      <td>6866579.97</td>\n",
       "      <td>6871119.67</td>\n",
       "      <td>C906530326</td>\n",
       "      <td>1240661.06</td>\n",
       "      <td>899860.93</td>\n",
       "      <td>0</td>\n",
       "      <td>0</td>\n",
       "    </tr>\n",
       "  </tbody>\n",
       "</table>\n",
       "<p>65535 rows × 11 columns</p>\n",
       "</div>"
      ],
      "text/plain": [
       "       step      type     amount     nameOrig  oldbalanceOrg  newbalanceOrig  \\\n",
       "0         1   PAYMENT    9839.64  C1231006815      170136.00       160296.36   \n",
       "1         1   PAYMENT    1864.28  C1666544295       21249.00        19384.72   \n",
       "2         1  TRANSFER     181.00  C1305486145         181.00            0.00   \n",
       "3         1  CASH_OUT     181.00   C840083671         181.00            0.00   \n",
       "4         1   PAYMENT   11668.14  C2048537720       41554.00        29885.86   \n",
       "...     ...       ...        ...          ...            ...             ...   \n",
       "65530     9   CASH_IN   50529.41  C1132444754     6493984.64      6544514.05   \n",
       "65531     9   CASH_IN   58429.17  C2059144571     6544514.05      6602943.22   \n",
       "65532     9   CASH_IN  114387.37   C687420794     6602943.22      6717330.59   \n",
       "65533     9   CASH_IN  149249.38   C279481988     6717330.59      6866579.97   \n",
       "65534     9   CASH_IN    4539.70   C780877295     6866579.97      6871119.67   \n",
       "\n",
       "          nameDest  oldbalanceDest  newbalanceDest  isFraud  isFlaggedFraud  \n",
       "0      M1979787155            0.00            0.00        0               0  \n",
       "1      M2044282225            0.00            0.00        0               0  \n",
       "2       C553264065            0.00            0.00        1               0  \n",
       "3        C38997010        21182.00            0.00        1               0  \n",
       "4      M1230701703            0.00            0.00        0               0  \n",
       "...            ...             ...             ...      ...             ...  \n",
       "65530  C1956477953       308079.99            0.00        0               0  \n",
       "65531  C1137371968      4724976.11      6392871.31        0               0  \n",
       "65532   C135254299       122030.09         7642.72        0               0  \n",
       "65533   C527482085       322658.03       198216.73        0               0  \n",
       "65534   C906530326      1240661.06       899860.93        0               0  \n",
       "\n",
       "[65535 rows x 11 columns]"
      ]
     },
     "execution_count": 4,
     "metadata": {},
     "output_type": "execute_result"
    }
   ],
   "source": [
    "df"
   ]
  },
  {
   "cell_type": "markdown",
   "id": "1a1dca29",
   "metadata": {},
   "source": [
    "# Cleaning the dataset"
   ]
  },
  {
   "cell_type": "code",
   "execution_count": 5,
   "id": "3b34e0f5",
   "metadata": {},
   "outputs": [
    {
     "name": "stdout",
     "output_type": "stream",
     "text": [
      "Missing values:\n",
      " step              0\n",
      "type              0\n",
      "amount            0\n",
      "nameOrig          0\n",
      "oldbalanceOrg     0\n",
      "newbalanceOrig    0\n",
      "nameDest          0\n",
      "oldbalanceDest    0\n",
      "newbalanceDest    0\n",
      "isFraud           0\n",
      "isFlaggedFraud    0\n",
      "dtype: int64\n"
     ]
    }
   ],
   "source": [
    "#Checking for missing values\n",
    "\n",
    "missing_values = df.isnull().sum()\n",
    "print(\"Missing values:\\n\", missing_values)"
   ]
  },
  {
   "cell_type": "markdown",
   "id": "a2314feb",
   "metadata": {},
   "source": [
    "#So dataset has no missing values"
   ]
  },
  {
   "cell_type": "code",
   "execution_count": 7,
   "id": "4a925ea2",
   "metadata": {},
   "outputs": [
    {
     "name": "stdout",
     "output_type": "stream",
     "text": [
      "step                int64\n",
      "type               object\n",
      "amount            float64\n",
      "nameOrig           object\n",
      "oldbalanceOrg     float64\n",
      "newbalanceOrig    float64\n",
      "nameDest           object\n",
      "oldbalanceDest    float64\n",
      "newbalanceDest    float64\n",
      "isFraud             int64\n",
      "isFlaggedFraud      int64\n",
      "dtype: object\n"
     ]
    }
   ],
   "source": [
    "# Check the data types of columns\n",
    "print(df.dtypes)\n",
    "\n",
    "# Verify that all columns in `numerical_cols` exist in the DataFrame\n",
    "for col in numerical_cols:\n",
    "    if col not in df.columns:\n",
    "        print(f\"Column {col} does not exist in the dataset.\")\n"
   ]
  },
  {
   "cell_type": "raw",
   "id": "cd140b26",
   "metadata": {},
   "source": [
    "# Handling Outliers"
   ]
  },
  {
   "cell_type": "code",
   "execution_count": 6,
   "id": "c101c821",
   "metadata": {},
   "outputs": [],
   "source": [
    "# Function to remove outliers using IQR\n",
    "def remove_outliers(df, column):\n",
    "    Q1 = df[column].quantile(0.25)\n",
    "    Q3 = df[column].quantile(0.75)\n",
    "    IQR = Q3 - Q1\n",
    "    lower_bound = Q1 - 1.5 * IQR\n",
    "    upper_bound = Q3 + 1.5 * IQR\n",
    "    return df[(df[column] >= lower_bound) & (df[column] <= upper_bound)]\n",
    "\n",
    "# # Apply outlier removal\n",
    "numerical_cols = ['amount', 'oldbalanceOrg', 'newbalanceOrig', 'oldbalanceDest', 'newbalanceDest']\n",
    "for col in numerical_cols:\n",
    "    df = remove_outliers(df, col)\n"
   ]
  },
  {
   "cell_type": "markdown",
   "id": "13b24450",
   "metadata": {},
   "source": [
    "#Checking for Multi-Collinearity"
   ]
  },
  {
   "cell_type": "code",
   "execution_count": 8,
   "id": "1b27016a",
   "metadata": {},
   "outputs": [
    {
     "data": {
      "image/png": "[encoded data removed]",
      "text/plain": [
       "<Figure size 720x576 with 2 Axes>"
      ]
     },
     "metadata": {
      "needs_background": "light"
     },
     "output_type": "display_data"
    }
   ],
   "source": [
    "# Compute the correlation matrix\n",
    "correlation_matrix = df.corr()\n",
    "\n",
    "# Visualize correlation\n",
    "plt.figure(figsize=(10, 8))\n",
    "sns.heatmap(correlation_matrix, annot=True, fmt=\".2f\", cmap=\"coolwarm\")\n",
    "plt.show()\n"
   ]
  },
  {
   "cell_type": "code",
   "execution_count": null,
   "id": "f5f61f62",
   "metadata": {},
   "outputs": [],
   "source": [
    "This correlation matrix visually represents the relationships between different variables in the dataset.\n",
    "Positive Correlations\n",
    "\n",
    "Amount and NewbalanceDest: There is a strong positive correlation (0.61) between the transaction amount and the new balance in the destination account. This suggests that larger transactions tend to result in higher balances in the destination account.\n",
    "Amount and OldbalanceDest: A moderate positive correlation (0.37) exists between the transaction amount and the old balance in the destination account. This indicates that larger transactions are often associated with higher existing balances in the destination account.\n",
    "OldbalanceDest and NewbalanceDest: A strong positive correlation (0.53) is observed between the old and new balances in the destination account. This is expected, as a higher initial balance would generally lead to a higher balance after the transaction.\n",
    "\n",
    "Negative Correlations\n",
    "\n",
    "Step and NewbalanceOrig: A weak negative correlation (-0.16) is present between the transaction step and the new balance in the origin account. This could suggest that later transactions might result in slightly lower balances in the origin account.\n",
    "Amount and NewbalanceOrig: A weak negative correlation (-0.19) exists between the transaction amount and the new balance in the origin account. This might indicate that larger transactions could lead to smaller remaining balances in the origin account.\n",
    "    \n",
    "IsFraud and Other Variables: The \"isFraud\" variable show a little strong correlations with other variables. This could suggest that fraudulent transactions might not have a clear pattern in terms of transaction amounts, balances, or steps.    "
   ]
  },
  {
   "cell_type": "markdown",
   "id": "68e8bead",
   "metadata": {},
   "source": [
    "#2.My Fraud Detection Model\n",
    "Choosing a machine learning model that balances interpretability and performance. Common models include:\n",
    "\n",
    "Logistic Regression (for interpretability).\n",
    "Random Forest or Gradient Boosting (for performance).\n",
    "\n",
    "I used random forest becuase fraudulent transactions often exhibit complex, non-linear patterns that Logistic Regression cannot capture well. Logistic Regression may struggle if the dataset requires extensive feature transformations or interactions to identify fraud patterns. Fraudulent behavior often involves complex rules or thresholds (e.g., high transaction amounts, rapid balance depletion) which are better captured by tree-based methods. Also Logistic regression and many other models for sensitive to imbalanced datasets which tree classification more efficient for this.\n",
    "\n",
    "Provide a high-level explanation of the model:\n",
    "\n",
    "Its objective (to classify transactions as fraudulent or not).\n",
    "Why it was selected (e.g., handling imbalanced data, robustness, etc.).\n"
   ]
  },
  {
   "cell_type": "markdown",
   "id": "1cd765a7",
   "metadata": {},
   "source": [
    "#3. Variable Selection\n",
    "\n",
    "Selecting the right features is critical for building an effective fraud detection model. Here's how the variables were chosen systematically:\n",
    "\n",
    "(i). Domain Knowledge\n",
    "The following variables were included based on their potential relevance to fraud detection:\n",
    "\n",
    "Transaction Amount (amount): Large or unusual transaction amounts may indicate fraudulent activity.\n",
    "Transaction Type (type): Certain types like TRANSFER and CASH_OUT are more likely to involve fraud, as described in the dataset's context.\n",
    "Old and New Balances:\n",
    "Origin (oldbalanceOrg, newbalanceOrig): Sudden depletion of funds in the originating account can signal fraud.\n",
    "Destination (oldbalanceDest, newbalanceDest): A lack of corresponding increase in the destination account might indicate fraud.\n",
    "Step (step): Temporal patterns, such as fraud being more frequent during specific time frames, can be identified.\n",
    "\n",
    "(ii). Data Correlation Analysis\n",
    "A correlation matrix was computed to identify the relationship between features and the target variable (isFraud). Features with a meaningful correlation to isFraud were prioritized. For instance:\n",
    "\n",
    "Variables like amount and oldbalanceOrg were found to have stronger correlations with isFraud.\n",
    "Features with near-zero or irrelevant correlation were excluded."
   ]
  },
  {
   "cell_type": "markdown",
   "id": "0ad29860",
   "metadata": {},
   "source": [
    "#4. Demonstrating the Model"
   ]
  },
  {
   "cell_type": "code",
   "execution_count": 9,
   "id": "d9eec7ef",
   "metadata": {},
   "outputs": [],
   "source": [
    "df['type'] = df['type'].replace({'TRANSFER': 0, 'CASH_OUT': 1, 'CASH_IN': 2, 'PAYMENT': 3, 'DEBIT': 4})"
   ]
  },
  {
   "cell_type": "code",
   "execution_count": 10,
   "id": "123521a5",
   "metadata": {},
   "outputs": [],
   "source": [
    "#Droping the columns which are of no impact in model prediction building\n",
    "df = df.drop(['nameOrig', 'nameDest'], axis=1)"
   ]
  },
  {
   "cell_type": "code",
   "execution_count": 11,
   "id": "1a62daa8",
   "metadata": {},
   "outputs": [],
   "source": [
    "from sklearn.ensemble import RandomForestClassifier\n",
    "from sklearn.metrics import classification_report, confusion_matrix, accuracy_score, precision_score, recall_score, f1_score\n",
    "from imblearn.over_sampling import RandomOverSampler\n",
    "from sklearn.model_selection import train_test_split"
   ]
  },
  {
   "cell_type": "code",
   "execution_count": 12,
   "id": "7a49c2e6",
   "metadata": {},
   "outputs": [],
   "source": [
    "# Separate features and target variable\n",
    "x = df.drop(columns=['isFraud', 'isFlaggedFraud'])\n",
    "y = df['isFraud']"
   ]
  },
  {
   "cell_type": "code",
   "execution_count": 13,
   "id": "1fc8474d",
   "metadata": {},
   "outputs": [],
   "source": [
    "# Train-test split\n",
    "x_train, x_test, y_train, y_test = train_test_split(x , y, test_size=0.2, random_state=42)"
   ]
  },
  {
   "cell_type": "code",
   "execution_count": 14,
   "id": "343d3ede",
   "metadata": {},
   "outputs": [],
   "source": [
    "# Addressing class imbalance using RandomOverSampler\n",
    "\n",
    "ros = RandomOverSampler(sampling_strategy=0.5)\n",
    "x_train_ros, y_train_ros = ros.fit_resample(x_train, y_train)"
   ]
  },
  {
   "cell_type": "code",
   "execution_count": 15,
   "id": "eacf51f9",
   "metadata": {},
   "outputs": [
    {
     "data": {
      "text/html": [
       "<style>#sk-container-id-1 {color: black;}#sk-container-id-1 pre{padding: 0;}#sk-container-id-1 div.sk-toggleable {background-color: white;}#sk-container-id-1 label.sk-toggleable__label {cursor: pointer;display: block;width: 100%;margin-bottom: 0;padding: 0.3em;box-sizing: border-box;text-align: center;}#sk-container-id-1 label.sk-toggleable__label-arrow:before {content: \"▸\";float: left;margin-right: 0.25em;color: #696969;}#sk-container-id-1 label.sk-toggleable__label-arrow:hover:before {color: black;}#sk-container-id-1 div.sk-estimator:hover label.sk-toggleable__label-arrow:before {color: black;}#sk-container-id-1 div.sk-toggleable__content {max-height: 0;max-width: 0;overflow: hidden;text-align: left;background-color: #f0f8ff;}#sk-container-id-1 div.sk-toggleable__content pre {margin: 0.2em;color: black;border-radius: 0.25em;background-color: #f0f8ff;}#sk-container-id-1 input.sk-toggleable__control:checked~div.sk-toggleable__content {max-height: 200px;max-width: 100%;overflow: auto;}#sk-container-id-1 input.sk-toggleable__control:checked~label.sk-toggleable__label-arrow:before {content: \"▾\";}#sk-container-id-1 div.sk-estimator input.sk-toggleable__control:checked~label.sk-toggleable__label {background-color: #d4ebff;}#sk-container-id-1 div.sk-label input.sk-toggleable__control:checked~label.sk-toggleable__label {background-color: #d4ebff;}#sk-container-id-1 input.sk-hidden--visually {border: 0;clip: rect(1px 1px 1px 1px);clip: rect(1px, 1px, 1px, 1px);height: 1px;margin: -1px;overflow: hidden;padding: 0;position: absolute;width: 1px;}#sk-container-id-1 div.sk-estimator {font-family: monospace;background-color: #f0f8ff;border: 1px dotted black;border-radius: 0.25em;box-sizing: border-box;margin-bottom: 0.5em;}#sk-container-id-1 div.sk-estimator:hover {background-color: #d4ebff;}#sk-container-id-1 div.sk-parallel-item::after {content: \"\";width: 100%;border-bottom: 1px solid gray;flex-grow: 1;}#sk-container-id-1 div.sk-label:hover label.sk-toggleable__label {background-color: #d4ebff;}#sk-container-id-1 div.sk-serial::before {content: \"\";position: absolute;border-left: 1px solid gray;box-sizing: border-box;top: 0;bottom: 0;left: 50%;z-index: 0;}#sk-container-id-1 div.sk-serial {display: flex;flex-direction: column;align-items: center;background-color: white;padding-right: 0.2em;padding-left: 0.2em;position: relative;}#sk-container-id-1 div.sk-item {position: relative;z-index: 1;}#sk-container-id-1 div.sk-parallel {display: flex;align-items: stretch;justify-content: center;background-color: white;position: relative;}#sk-container-id-1 div.sk-item::before, #sk-container-id-1 div.sk-parallel-item::before {content: \"\";position: absolute;border-left: 1px solid gray;box-sizing: border-box;top: 0;bottom: 0;left: 50%;z-index: -1;}#sk-container-id-1 div.sk-parallel-item {display: flex;flex-direction: column;z-index: 1;position: relative;background-color: white;}#sk-container-id-1 div.sk-parallel-item:first-child::after {align-self: flex-end;width: 50%;}#sk-container-id-1 div.sk-parallel-item:last-child::after {align-self: flex-start;width: 50%;}#sk-container-id-1 div.sk-parallel-item:only-child::after {width: 0;}#sk-container-id-1 div.sk-dashed-wrapped {border: 1px dashed gray;margin: 0 0.4em 0.5em 0.4em;box-sizing: border-box;padding-bottom: 0.4em;background-color: white;}#sk-container-id-1 div.sk-label label {font-family: monospace;font-weight: bold;display: inline-block;line-height: 1.2em;}#sk-container-id-1 div.sk-label-container {text-align: center;}#sk-container-id-1 div.sk-container {/* jupyter's `normalize.less` sets `[hidden] { display: none; }` but bootstrap.min.css set `[hidden] { display: none !important; }` so we also need the `!important` here to be able to override the default hidden behavior on the sphinx rendered scikit-learn.org. See: https://github.com/scikit-learn/scikit-learn/issues/21755 */display: inline-block !important;position: relative;}#sk-container-id-1 div.sk-text-repr-fallback {display: none;}</style><div id=\"sk-container-id-1\" class=\"sk-top-container\"><div class=\"sk-text-repr-fallback\"><pre>RandomForestClassifier(class_weight=&#x27;balanced&#x27;, max_depth=20, n_estimators=200,\n",
       "                       random_state=60)</pre><b>In a Jupyter environment, please rerun this cell to show the HTML representation or trust the notebook. <br />On GitHub, the HTML representation is unable to render, please try loading this page with nbviewer.org.</b></div><div class=\"sk-container\" hidden><div class=\"sk-item\"><div class=\"sk-estimator sk-toggleable\"><input class=\"sk-toggleable__control sk-hidden--visually\" id=\"sk-estimator-id-1\" type=\"checkbox\" checked><label for=\"sk-estimator-id-1\" class=\"sk-toggleable__label sk-toggleable__label-arrow\">RandomForestClassifier</label><div class=\"sk-toggleable__content\"><pre>RandomForestClassifier(class_weight=&#x27;balanced&#x27;, max_depth=20, n_estimators=200,\n",
       "                       random_state=60)</pre></div></div></div></div></div>"
      ],
      "text/plain": [
       "RandomForestClassifier(class_weight='balanced', max_depth=20, n_estimators=200,\n",
       "                       random_state=60)"
      ]
     },
     "execution_count": 15,
     "metadata": {},
     "output_type": "execute_result"
    }
   ],
   "source": [
    "# Train Random Forest Classifier\n",
    "\n",
    "rf_model = RandomForestClassifier(n_estimators=200, max_depth=20, class_weight=\"balanced\", random_state=60)\n",
    "rf_model.fit(x_train_ros, y_train_ros)"
   ]
  },
  {
   "cell_type": "markdown",
   "id": "8104210e",
   "metadata": {},
   "source": [
    "# #Model evaluation of data"
   ]
  },
  {
   "cell_type": "code",
   "execution_count": 16,
   "id": "5775c13a",
   "metadata": {},
   "outputs": [
    {
     "name": "stdout",
     "output_type": "stream",
     "text": [
      "Accuracy score of training data is 99.96599217820099\n",
      "Precision score of training data is 100.0\n",
      "recall score of training data is 81.81818181818183\n",
      "f1 score of training data is 90.0\n"
     ]
    }
   ],
   "source": [
    "\n",
    "y_pred = rf_model.predict(x_test)  \n",
    "y_pred\n",
    "accuracy = accuracy_score(y_test, y_pred)\n",
    "precision = precision_score(y_test, y_pred)\n",
    "recall = recall_score(y_test, y_pred)\n",
    "f1 = f1_score(y_test, y_pred)\n",
    "\n",
    "print('Accuracy score of training data is', accuracy*100)\n",
    "print('Precision score of training data is', precision*100)\n",
    "print('recall score of training data is', recall*100)\n",
    "print('f1 score of training data is', f1*100)"
   ]
  },
  {
   "cell_type": "markdown",
   "id": "c157ed06",
   "metadata": {},
   "source": [
    "#Making a Predictive Model"
   ]
  },
  {
   "cell_type": "code",
   "execution_count": 17,
   "id": "ddaaf196",
   "metadata": {},
   "outputs": [
    {
     "name": "stdout",
     "output_type": "stream",
     "text": [
      "It is a [1]\n",
      "It is a fraud\n"
     ]
    },
    {
     "name": "stderr",
     "output_type": "stream",
     "text": [
      "C:\\Anaconda\\lib\\site-packages\\sklearn\\base.py:465: UserWarning: X does not have valid feature names, but RandomForestClassifier was fitted with feature names\n",
      "  warnings.warn(\n"
     ]
    }
   ],
   "source": [
    "\n",
    "input_data = (1, 0, 181.00, 181.00, 0.00, 0.0, 0.0)\n",
    "input_data_as_nparray = np.asarray(input_data)\n",
    "#reshaping the numpy array\n",
    "input_data_resphaped = input_data_as_nparray.reshape(1, -1)\n",
    "prediction = rf_model.predict(input_data_resphaped)\n",
    "print('It is a', prediction)\n",
    "\n",
    "if(prediction[0] == 0):\n",
    "    print('It is not fraud')\n",
    "else:\n",
    "    print('It is a fraud')\n"
   ]
  },
  {
   "cell_type": "code",
   "execution_count": 19,
   "id": "095f7e19",
   "metadata": {},
   "outputs": [
    {
     "name": "stdout",
     "output_type": "stream",
     "text": [
      "Feature Importances:\n",
      "           Feature  Importance\n",
      "1            type    0.371071\n",
      "0            step    0.162920\n",
      "3   oldbalanceOrg    0.154359\n",
      "2          amount    0.102699\n",
      "4  newbalanceOrig    0.098196\n",
      "5  oldbalanceDest    0.067610\n",
      "6  newbalanceDest    0.043144\n"
     ]
    }
   ],
   "source": [
    "# 5. Feature importance on the fraud detection\n",
    "\n",
    "importances = rf_model.feature_importances_\n",
    "feature_names = x.columns\n",
    "importance_df = pd.DataFrame({'Feature': feature_names, 'Importance': importances})\n",
    "importance_df = importance_df.sort_values(by='Importance', ascending=False)\n",
    "print(\"Feature Importances:\\n\", importance_df)\n"
   ]
  },
  {
   "cell_type": "code",
   "execution_count": 25,
   "id": "06f6a9a5",
   "metadata": {},
   "outputs": [
    {
     "data": {
      "text/html": [
       "<div>\n",
       "<style scoped>\n",
       "    .dataframe tbody tr th:only-of-type {\n",
       "        vertical-align: middle;\n",
       "    }\n",
       "\n",
       "    .dataframe tbody tr th {\n",
       "        vertical-align: top;\n",
       "    }\n",
       "\n",
       "    .dataframe thead th {\n",
       "        text-align: right;\n",
       "    }\n",
       "</style>\n",
       "<table border=\"1\" class=\"dataframe\">\n",
       "  <thead>\n",
       "    <tr style=\"text-align: right;\">\n",
       "      <th></th>\n",
       "      <th>step</th>\n",
       "      <th>type</th>\n",
       "      <th>amount</th>\n",
       "      <th>oldbalanceOrg</th>\n",
       "      <th>newbalanceOrig</th>\n",
       "      <th>oldbalanceDest</th>\n",
       "      <th>newbalanceDest</th>\n",
       "      <th>isFraud</th>\n",
       "      <th>isFlaggedFraud</th>\n",
       "    </tr>\n",
       "  </thead>\n",
       "  <tbody>\n",
       "    <tr>\n",
       "      <th>2</th>\n",
       "      <td>1</td>\n",
       "      <td>0</td>\n",
       "      <td>181.00</td>\n",
       "      <td>181.00</td>\n",
       "      <td>0.0</td>\n",
       "      <td>0.00</td>\n",
       "      <td>0.00</td>\n",
       "      <td>1</td>\n",
       "      <td>0</td>\n",
       "    </tr>\n",
       "    <tr>\n",
       "      <th>3</th>\n",
       "      <td>1</td>\n",
       "      <td>1</td>\n",
       "      <td>181.00</td>\n",
       "      <td>181.00</td>\n",
       "      <td>0.0</td>\n",
       "      <td>21182.00</td>\n",
       "      <td>0.00</td>\n",
       "      <td>1</td>\n",
       "      <td>0</td>\n",
       "    </tr>\n",
       "    <tr>\n",
       "      <th>251</th>\n",
       "      <td>1</td>\n",
       "      <td>0</td>\n",
       "      <td>2806.00</td>\n",
       "      <td>2806.00</td>\n",
       "      <td>0.0</td>\n",
       "      <td>0.00</td>\n",
       "      <td>0.00</td>\n",
       "      <td>1</td>\n",
       "      <td>0</td>\n",
       "    </tr>\n",
       "    <tr>\n",
       "      <th>252</th>\n",
       "      <td>1</td>\n",
       "      <td>1</td>\n",
       "      <td>2806.00</td>\n",
       "      <td>2806.00</td>\n",
       "      <td>0.0</td>\n",
       "      <td>26202.00</td>\n",
       "      <td>0.00</td>\n",
       "      <td>1</td>\n",
       "      <td>0</td>\n",
       "    </tr>\n",
       "    <tr>\n",
       "      <th>680</th>\n",
       "      <td>1</td>\n",
       "      <td>0</td>\n",
       "      <td>20128.00</td>\n",
       "      <td>20128.00</td>\n",
       "      <td>0.0</td>\n",
       "      <td>0.00</td>\n",
       "      <td>0.00</td>\n",
       "      <td>1</td>\n",
       "      <td>0</td>\n",
       "    </tr>\n",
       "    <tr>\n",
       "      <th>...</th>\n",
       "      <td>...</td>\n",
       "      <td>...</td>\n",
       "      <td>...</td>\n",
       "      <td>...</td>\n",
       "      <td>...</td>\n",
       "      <td>...</td>\n",
       "      <td>...</td>\n",
       "      <td>...</td>\n",
       "      <td>...</td>\n",
       "    </tr>\n",
       "    <tr>\n",
       "      <th>36691</th>\n",
       "      <td>9</td>\n",
       "      <td>0</td>\n",
       "      <td>11308.00</td>\n",
       "      <td>11308.00</td>\n",
       "      <td>0.0</td>\n",
       "      <td>0.00</td>\n",
       "      <td>0.00</td>\n",
       "      <td>1</td>\n",
       "      <td>0</td>\n",
       "    </tr>\n",
       "    <tr>\n",
       "      <th>36692</th>\n",
       "      <td>9</td>\n",
       "      <td>1</td>\n",
       "      <td>11308.00</td>\n",
       "      <td>11308.00</td>\n",
       "      <td>0.0</td>\n",
       "      <td>0.00</td>\n",
       "      <td>302550.56</td>\n",
       "      <td>1</td>\n",
       "      <td>0</td>\n",
       "    </tr>\n",
       "    <tr>\n",
       "      <th>49885</th>\n",
       "      <td>9</td>\n",
       "      <td>0</td>\n",
       "      <td>361559.69</td>\n",
       "      <td>361559.69</td>\n",
       "      <td>0.0</td>\n",
       "      <td>0.00</td>\n",
       "      <td>141302.12</td>\n",
       "      <td>1</td>\n",
       "      <td>0</td>\n",
       "    </tr>\n",
       "    <tr>\n",
       "      <th>49886</th>\n",
       "      <td>9</td>\n",
       "      <td>1</td>\n",
       "      <td>361559.69</td>\n",
       "      <td>361559.69</td>\n",
       "      <td>0.0</td>\n",
       "      <td>504667.31</td>\n",
       "      <td>189441.24</td>\n",
       "      <td>1</td>\n",
       "      <td>0</td>\n",
       "    </tr>\n",
       "    <tr>\n",
       "      <th>58307</th>\n",
       "      <td>9</td>\n",
       "      <td>0</td>\n",
       "      <td>21922.00</td>\n",
       "      <td>21922.00</td>\n",
       "      <td>0.0</td>\n",
       "      <td>0.00</td>\n",
       "      <td>0.00</td>\n",
       "      <td>1</td>\n",
       "      <td>0</td>\n",
       "    </tr>\n",
       "  </tbody>\n",
       "</table>\n",
       "<p>75 rows × 9 columns</p>\n",
       "</div>"
      ],
      "text/plain": [
       "       step  type     amount  oldbalanceOrg  newbalanceOrig  oldbalanceDest  \\\n",
       "2         1     0     181.00         181.00             0.0            0.00   \n",
       "3         1     1     181.00         181.00             0.0        21182.00   \n",
       "251       1     0    2806.00        2806.00             0.0            0.00   \n",
       "252       1     1    2806.00        2806.00             0.0        26202.00   \n",
       "680       1     0   20128.00       20128.00             0.0            0.00   \n",
       "...     ...   ...        ...            ...             ...             ...   \n",
       "36691     9     0   11308.00       11308.00             0.0            0.00   \n",
       "36692     9     1   11308.00       11308.00             0.0            0.00   \n",
       "49885     9     0  361559.69      361559.69             0.0            0.00   \n",
       "49886     9     1  361559.69      361559.69             0.0       504667.31   \n",
       "58307     9     0   21922.00       21922.00             0.0            0.00   \n",
       "\n",
       "       newbalanceDest  isFraud  isFlaggedFraud  \n",
       "2                0.00        1               0  \n",
       "3                0.00        1               0  \n",
       "251              0.00        1               0  \n",
       "252              0.00        1               0  \n",
       "680              0.00        1               0  \n",
       "...               ...      ...             ...  \n",
       "36691            0.00        1               0  \n",
       "36692       302550.56        1               0  \n",
       "49885       141302.12        1               0  \n",
       "49886       189441.24        1               0  \n",
       "58307            0.00        1               0  \n",
       "\n",
       "[75 rows x 9 columns]"
      ]
     },
     "execution_count": 25,
     "metadata": {},
     "output_type": "execute_result"
    }
   ],
   "source": [
    "#Checking the type for fraudulent transaction\n",
    "df1 = df[df['isFraud'] == 1]\n",
    "df1"
   ]
  },
  {
   "cell_type": "code",
   "execution_count": 28,
   "id": "40ea6123",
   "metadata": {},
   "outputs": [
    {
     "data": {
      "text/plain": [
       "array([0, 1], dtype=int64)"
      ]
     },
     "execution_count": 28,
     "metadata": {},
     "output_type": "execute_result"
    }
   ],
   "source": [
    "df1['type'].unique()"
   ]
  },
  {
   "cell_type": "code",
   "execution_count": null,
   "id": "b90f61df",
   "metadata": {},
   "outputs": [],
   "source": [
    "In this 0 represents TRANSFER in type and 1 represents CASH_OUT. So these type are related to fraudulent transactions"
   ]
  },
  {
   "cell_type": "markdown",
   "id": "e36efc3a",
   "metadata": {},
   "source": [
    "# 5. key factors that predict fraudulent customers"
   ]
  },
  {
   "cell_type": "code",
   "execution_count": null,
   "id": "990792b8",
   "metadata": {},
   "outputs": [],
   "source": [
    "From What i have found after the analysing the dataset is that:\n",
    "1. Transaction Type (type): Fraudulent transactions are predominantly associated with TRANSFER and CASH-OUT types.\n",
    "\n",
    "2. Transaction Amount (amount) : Higher transaction amounts are likely flagged as fraudulent.\n",
    "    \n",
    "3. Old Balance of Origin Account (oldbalanceOrg): Significant discrepancies between oldbalanceOrg and newbalanceOrig indicate suspicious activity.\n",
    "    \n",
    "4. New Balance of Destination Account (newbalanceDest): Large sudden inflows to accounts may suggest fraudulent transfers. \n",
    "    \n",
    "5. Step: Fraudulent transactions may cluster at specific time steps.    "
   ]
  },
  {
   "cell_type": "markdown",
   "id": "73ffe209",
   "metadata": {},
   "source": [
    "# 6. Do these factors make sense? If yes, How? If not, How not?"
   ]
  },
  {
   "cell_type": "code",
   "execution_count": null,
   "id": "abbdc34a",
   "metadata": {},
   "outputs": [],
   "source": [
    "Yes, these factors make sense. Here's why:\n",
    "\n",
    "1. Transaction Type: Fraudulent activities often involve transferring funds or cashing out large amounts, which matches observed behavior in real-world financial fraud cases.\n",
    "    \n",
    "2. Transaction Amount: Fraudsters often aim to withdraw or transfer as much money as possible in a single transaction, leading to high amount values.\n",
    "    \n",
    "3. Balances: Suspicious discrepancies in oldbalanceOrg, newbalanceOrig, and newbalanceDest indicate unnatural movements of funds, common in fraud.   \n",
    "\n",
    "4. Step (Time): Fraudulent transactions may occur during specific times (e.g., late hours) when they are less likely to be noticed.\n",
    "    \n",
    "    "
   ]
  },
  {
   "cell_type": "markdown",
   "id": "2c18a563",
   "metadata": {},
   "source": [
    "# 7. What kind of prevention should be adopted while the company updates its infrastructure?"
   ]
  },
  {
   "cell_type": "code",
   "execution_count": null,
   "id": "32e1218a",
   "metadata": {},
   "outputs": [],
   "source": [
    "Real-Time Monitoring: Implementing systems to detect unusual patterns in transaction types, amounts, and account balances in real time.\n",
    "Transaction Limits: Setting stricter limits for transaction amounts and require multi-factor authentication for high-value transfers.\n",
    "Behavioral Analysis: Use machine learning models to establish customer behavior baselines and flag deviations.\n",
    "    \n",
    "Strengthen Authentication: Introduce biometric verification and dynamic passwords to ensure accounts are accessed only by authorized users.\n",
    "\n",
    "Regular Updates: Updating the fraud detection model periodically to adapt to new fraudulent techniques.\n",
    "    \n",
    "Data Encryption: Protect sensitive financial data to prevent breaches that can lead to fraud.\n"
   ]
  },
  {
   "cell_type": "markdown",
   "id": "92478686",
   "metadata": {},
   "source": [
    "# 8. Assuming these actions have been implemented, how would you determine if they work?"
   ]
  },
  {
   "cell_type": "markdown",
   "id": "dc770a32",
   "metadata": {},
   "source": [
    "To measure the effectiveness of the implemented actions, the following steps i will take:\n",
    "\n",
    "a.Measure Key Performance Indicators (KPIs): Recall: I will track the model's ability to identify fraudulent transactions.\n",
    "False Negative Rate (FNR): I wil reduce instances where fraud is missed.\n",
    "False Positive Rate (FPR): I will ensure genuine transactions aren't excessively flagged.\n",
    "Customer Complaints: Then i will monitor the number of complaints about blocked transactions.\n",
    "    \n",
    "b. A/B Testing: I will deploy the updated model and infrastructure in a test environment while maintaining the previous system for comparison.\n",
    "Measure fraud detection rates, customer satisfaction, and system performance in both environments.\n",
    "\n",
    "c. Post-Implementation Review: Also by using historical data to simulate how the new system would have performed on previously missed fraud cases.\n",
    "    \n",
    "d. Feedback Loops: Continuously refine the model by retraining it on newly flagged fraudulent transactions to stay ahead of evolving tactics.\n",
    "    \n",
    "Demonstration for checking and tracking improvement of the work :\n",
    "    \n",
    "    # Evaluate recall before and after changes\n",
    "recall = recall_score(y_test, y_pred_old_model)  # Recall of old model\n",
    "new_recall = recall_score(y_test, y_pred_new_model)  # Recall of new model\n",
    "\n",
    "print(\"Old Model Recall:\", recall)\n",
    "print(\"New Model Recall:\", new_recall)\n",
    "\n",
    "if new_recall > old_recall:\n",
    "    print(\"The new system shows improvement in fraud detection.\")\n",
    "else:\n",
    "    print(\"Further refinements are needed.\")\n",
    "\n"
   ]
  }
 ],
 "metadata": {
  "kernelspec": {
   "display_name": "Python 3",
   "language": "python",
   "name": "python3"
  },
  "language_info": {
   "codemirror_mode": {
    "name": "ipython",
    "version": 3
   },
   "file_extension": ".py",
   "mimetype": "text/x-python",
   "name": "python",
   "nbconvert_exporter": "python",
   "pygments_lexer": "ipython3",
   "version": "3.8.8"
  }
 },
 "nbformat": 4,
 "nbformat_minor": 5
}
